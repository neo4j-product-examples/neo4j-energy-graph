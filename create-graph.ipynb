{
 "cells": [
  {
   "metadata": {
    "ExecuteTime": {
     "end_time": "2025-06-10T15:10:37.360440Z",
     "start_time": "2025-06-10T15:10:37.356928Z"
    }
   },
   "cell_type": "code",
   "source": "",
   "id": "253bc1726381f43e",
   "outputs": [],
   "execution_count": null
  },
  {
   "metadata": {
    "collapsed": true,
    "ExecuteTime": {
     "end_time": "2025-06-10T15:10:37.390710Z",
     "start_time": "2025-06-10T15:10:37.383190Z"
    }
   },
   "cell_type": "code",
   "source": [
    "from neo4j import GraphDatabase\n",
    "import os\n",
    "import requests\n",
    "from dotenv import load_dotenv\n",
    "from getpass import getpass\n",
    "\n",
    "# get credentials\n",
    "load_dotenv('target-db.env', override=True)\n",
    "\n",
    "uri = os.getenv('NEO4J_URI')\n",
    "username = os.getenv('NEO4J_USERNAME')\n",
    "password = os.getenv('NEO4J_PASSWORD')\n",
    "\n",
    "if not uri:\n",
    "  uri = getpass(\"Please enter your Neo4j URI: \")\n",
    "if not username:\n",
    "  username = getpass(\"Please enter your Neo4j username: \")\n",
    "if not password:\n",
    "  password = getpass(\"Please enter your Neo4j password: \")\n",
    "\n",
    "driver = GraphDatabase.driver(uri, auth=(username, password))"
   ],
   "id": "initial_id",
   "outputs": [],
   "execution_count": 144
  },
  {
   "metadata": {
    "ExecuteTime": {
     "end_time": "2025-06-10T15:10:38.912196Z",
     "start_time": "2025-06-10T15:10:37.433099Z"
    }
   },
   "cell_type": "code",
   "source": [
    "from neo4j import RoutingControl\n",
    "\n",
    "#create uniqueness constraint if not exists\n",
    "driver.execute_query(\n",
    "    'CREATE CONSTRAINT IF NOT EXISTS FOR (n:Generator) REQUIRE (n.id) IS NODE KEY',\n",
    "    #database_=DATABASE,\n",
    "    routing_=RoutingControl.WRITE\n",
    ")\n",
    "\n",
    "driver.execute_query(\n",
    "    'CREATE CONSTRAINT IF NOT EXISTS FOR (n:Bus) REQUIRE (n.id) IS NODE KEY',\n",
    "    #database_=DATABASE,\n",
    "    routing_=RoutingControl.WRITE\n",
    ")\n",
    "\n",
    "driver.execute_query(\n",
    "    'CREATE CONSTRAINT IF NOT EXISTS FOR (n:Transformer) REQUIRE (n.id) IS NODE KEY',\n",
    "    #database_=DATABASE,\n",
    "    routing_=RoutingControl.WRITE\n",
    ")\n",
    "\n",
    "driver.execute_query(\n",
    "    'CREATE CONSTRAINT IF NOT EXISTS FOR (n:Link) REQUIRE (n.id) IS NODE KEY',\n",
    "    #database_=DATABASE,\n",
    "    routing_=RoutingControl.WRITE\n",
    ")\n",
    "\n",
    "driver.execute_query(\n",
    "    'CREATE CONSTRAINT IF NOT EXISTS FOR (n:Station) REQUIRE (n.id) IS NODE KEY',\n",
    "    #database_=DATABASE,\n",
    "    routing_=RoutingControl.WRITE\n",
    ")\n",
    "\n",
    "\n",
    "driver.execute_query(\n",
    "    'CREATE CONSTRAINT IF NOT EXISTS FOR (n:Customer) REQUIRE (n.id) IS NODE KEY',\n",
    "    #database_=DATABASE,\n",
    "    routing_=RoutingControl.WRITE\n",
    ")\n",
    "\n",
    "driver.execute_query(\n",
    "    'CREATE CONSTRAINT IF NOT EXISTS FOR (n:Installation) REQUIRE (n.id) IS NODE KEY',\n",
    "    #database_=DATABASE,\n",
    "    routing_=RoutingControl.WRITE\n",
    ")\n",
    "\n",
    "driver.execute_query(\n",
    "    'CREATE CONSTRAINT IF NOT EXISTS FOR (n:Region) REQUIRE (n.id) IS NODE KEY',\n",
    "    #database_=DATABASE,\n",
    "    routing_=RoutingControl.WRITE\n",
    ")\n",
    "\n",
    "driver.execute_query(\n",
    "    'CREATE CONSTRAINT IF NOT EXISTS FOR (n:Consumption) REQUIRE (n.id) IS NODE KEY',\n",
    "    #database_=DATABASE,\n",
    "    routing_=RoutingControl.WRITE\n",
    ")\n",
    "\n",
    "driver.execute_query(\n",
    "    'CREATE CONSTRAINT IF NOT EXISTS FOR (n:Ticket) REQUIRE (n.ticketNumber) IS NODE KEY',\n",
    "    #database_=DATABASE,\n",
    "    routing_=RoutingControl.WRITE\n",
    ")"
   ],
   "id": "84d2b5656245a31c",
   "outputs": [
    {
     "data": {
      "text/plain": [
       "EagerResult(records=[], summary=<neo4j._work.summary.ResultSummary object at 0x10e095bd0>, keys=[])"
      ]
     },
     "execution_count": 145,
     "metadata": {},
     "output_type": "execute_result"
    }
   ],
   "execution_count": 145
  },
  {
   "metadata": {
    "ExecuteTime": {
     "end_time": "2025-06-10T15:10:38.930223Z",
     "start_time": "2025-06-10T15:10:38.927963Z"
    }
   },
   "cell_type": "code",
   "source": [
    "data_dir = \"source-data\"\n",
    "# helper function\n",
    "def chunks(xs, n=1_000):\n",
    "    n = max(1, n)\n",
    "    return [xs[i:i + n] for i in range(0, len(xs), n)]"
   ],
   "id": "7cacfdbe8c9f6713",
   "outputs": [],
   "execution_count": 146
  },
  {
   "metadata": {
    "ExecuteTime": {
     "end_time": "2025-06-10T15:10:39.678441Z",
     "start_time": "2025-06-10T15:10:38.953571Z"
    }
   },
   "cell_type": "code",
   "source": [
    "import pandas as pd\n",
    "from neo4j import RoutingControl\n",
    "\n",
    "generator_df = pd.read_csv(os.path.join(data_dir,'generators.csv'))\n",
    "\n",
    "for records in chunks(generator_df.to_dict(orient='records')):\n",
    "    res = generator_df = driver.execute_query(\"\"\"\n",
    "      UNWIND $records as rec\n",
    "      MERGE (g:Generator {id:rec.ID})\n",
    "      MERGE (b:Bus {id:rec.BUS_ID})\n",
    "      MERGE (g)-[r:CONNECTED]->(b)\n",
    "      SET\n",
    "        g.capacity = rec.CAPACITY,\n",
    "        g.category = rec.CATEGORY,\n",
    "        g.geometry = point({latitude: rec.LATITUDE, longitude: rec.LONGITUDE}),\n",
    "        g.mb_symbol = rec.MB_SYMBOL,\n",
    "        g.name_eng = rec.NAME_ENG,\n",
    "        g.name_nat = rec.NAME_NAT,\n",
    "        g.symbol = rec.SYMBOL,\n",
    "        g.tso = rec.TSO,\n",
    "        g.visible = rec.VISIBLE\n",
    "      RETURN count(rec) AS records_upserted\n",
    "    \"\"\",\n",
    "        #database_=DATABASE,\n",
    "        routing_=RoutingControl.WRITE,\n",
    "        result_transformer_= lambda r: r.data(),\n",
    "        records = records\n",
    "    )\n",
    "    print(res)\n",
    "generator_df"
   ],
   "id": "9cc6b0ab8273207c",
   "outputs": [
    {
     "name": "stdout",
     "output_type": "stream",
     "text": [
      "[{'records_upserted': 1000}]\n",
      "[{'records_upserted': 1000}]\n",
      "[{'records_upserted': 172}]\n"
     ]
    },
    {
     "data": {
      "text/plain": [
       "[{'records_upserted': 172}]"
      ]
     },
     "execution_count": 147,
     "metadata": {},
     "output_type": "execute_result"
    }
   ],
   "execution_count": 147
  },
  {
   "metadata": {
    "ExecuteTime": {
     "end_time": "2025-06-10T15:10:41.144985Z",
     "start_time": "2025-06-10T15:10:39.694719Z"
    }
   },
   "cell_type": "code",
   "source": [
    "bus_df = pd.read_csv(os.path.join(data_dir,'buses.csv'))\n",
    "\n",
    "for records in chunks(bus_df.to_dict(orient='records')):\n",
    "    res = driver.execute_query(\"\"\"\n",
    "      UNWIND $records AS rec\n",
    "      MERGE (b:Bus {id: rec.ID})\n",
    "      MERGE (s:Station {id: rec.STATION_ID})\n",
    "      MERGE (b)-[:IN_STATION]->(s)\n",
    "      SET\n",
    "        b.category = rec.CATEGORY,\n",
    "        b.geometry = point({latitude: rec.LATITUDE, longitude: rec.LONGITUDE}),\n",
    "        b.mb_symbol = rec.MB_SYMBOL,\n",
    "        b.name_eng = rec.NAME_ENG,\n",
    "        b.name_nat = rec.NAME_NAT,\n",
    "        b.symbol = rec.SYMBOL,\n",
    "        b.tso = rec.TSO,\n",
    "        b.visible = rec.VISIBLE,\n",
    "        b.voltage = rec.VOLTAGE\n",
    "      RETURN count(rec) AS records_upserted\n",
    "    \"\"\", routing_=RoutingControl.WRITE, result_transformer_=lambda r: r.data(), records=records)\n",
    "    print(res)"
   ],
   "id": "4ba47c64be68490a",
   "outputs": [
    {
     "name": "stdout",
     "output_type": "stream",
     "text": [
      "[{'records_upserted': 1000}]\n",
      "[{'records_upserted': 1000}]\n",
      "[{'records_upserted': 1000}]\n",
      "[{'records_upserted': 1000}]\n",
      "[{'records_upserted': 1000}]\n",
      "[{'records_upserted': 1000}]\n",
      "[{'records_upserted': 1000}]\n",
      "[{'records_upserted': 893}]\n"
     ]
    }
   ],
   "execution_count": 148
  },
  {
   "metadata": {
    "ExecuteTime": {
     "end_time": "2025-06-10T15:10:41.544781Z",
     "start_time": "2025-06-10T15:10:41.157730Z"
    }
   },
   "cell_type": "code",
   "source": [
    "transformer_df = pd.read_csv(os.path.join(data_dir,'transformers.csv'))\n",
    "\n",
    "for records in chunks(transformer_df.to_dict(orient='records')):\n",
    "    res = driver.execute_query(\"\"\"\n",
    "      UNWIND $records AS rec\n",
    "      MERGE (t:Transformer {id: rec.ID})\n",
    "      MERGE (b:Bus {id: rec.BUS_ID})\n",
    "      MERGE (t)-[:CONNECTED]->(b)\n",
    "      SET\n",
    "        t.dst_dc = rec.DST_DC,\n",
    "        t.dst_voltage = rec.DST_VOLTAGE,\n",
    "        t.geometry = point({latitude: rec.LATITUDE, longitude: rec.LONGITUDE}),\n",
    "        t.src_dc = rec.SRC_DC,\n",
    "        t.src_voltage = rec.SRC_VOLTAGE,\n",
    "        t.symbol = rec.SYMBOL\n",
    "      RETURN count(rec) AS records_upserted\n",
    "    \"\"\", routing_=RoutingControl.WRITE, result_transformer_=lambda r: r.data(), records=records)\n",
    "    print(res)"
   ],
   "id": "c345c529a8ed45b9",
   "outputs": [
    {
     "name": "stdout",
     "output_type": "stream",
     "text": [
      "[{'records_upserted': 1000}]\n",
      "[{'records_upserted': 60}]\n"
     ]
    }
   ],
   "execution_count": 149
  },
  {
   "metadata": {
    "ExecuteTime": {
     "end_time": "2025-06-10T15:10:43.216575Z",
     "start_time": "2025-06-10T15:10:41.573963Z"
    }
   },
   "cell_type": "code",
   "source": [
    "link_df = pd.read_csv(os.path.join(data_dir,'links.csv'))\n",
    "\n",
    "for records in chunks(link_df.to_dict(orient='records')):\n",
    "    res = driver.execute_query(\"\"\"\n",
    "      UNWIND $records AS rec\n",
    "      MERGE (l:Link {id: rec.ID})\n",
    "      MERGE (b:Bus {id: rec.BUS_ID})\n",
    "      MERGE (l)-[:CONNECTED]->(b)\n",
    "      SET\n",
    "        l.circuits = rec.CIRCUITS,\n",
    "        l.dc = rec.DC,\n",
    "        l.length_m = rec.LENGTH_M,\n",
    "        l.shape_leng = rec.SHAPE_LENG,\n",
    "        l.symbol = rec.SYMBOL,\n",
    "        l.t9_code = rec.T9_CODE,\n",
    "        l.underground = rec.UNDERGROUND,\n",
    "        l.visible = rec.VISIBLE,\n",
    "        l.voltage = rec.VOLTAGE\n",
    "      RETURN count(rec) AS records_upserted\n",
    "    \"\"\", routing_=RoutingControl.WRITE, result_transformer_=lambda r: r.data(), records=records)\n",
    "    print(res)"
   ],
   "id": "fa27ea49d69401e",
   "outputs": [
    {
     "name": "stdout",
     "output_type": "stream",
     "text": [
      "[{'records_upserted': 1000}]\n",
      "[{'records_upserted': 1000}]\n",
      "[{'records_upserted': 1000}]\n",
      "[{'records_upserted': 1000}]\n",
      "[{'records_upserted': 1000}]\n",
      "[{'records_upserted': 1000}]\n",
      "[{'records_upserted': 1000}]\n",
      "[{'records_upserted': 1000}]\n",
      "[{'records_upserted': 1000}]\n",
      "[{'records_upserted': 784}]\n"
     ]
    }
   ],
   "execution_count": 150
  },
  {
   "metadata": {
    "ExecuteTime": {
     "end_time": "2025-06-10T15:10:44.045060Z",
     "start_time": "2025-06-10T15:10:43.224528Z"
    }
   },
   "cell_type": "code",
   "source": [
    "station_df = pd.read_csv(os.path.join(data_dir,'stations.csv'))\n",
    "\n",
    "for records in chunks(station_df.to_dict(orient='records')):\n",
    "    res = driver.execute_query(\"\"\"\n",
    "      UNWIND $records AS rec\n",
    "      MERGE (s:Station {id: rec.ID})\n",
    "      SET\n",
    "        s.name_eng = rec.NAME_ENG,\n",
    "        s.geometry = point({latitude: rec.LATITUDE, longitude: rec.LONGITUDE})\n",
    "      RETURN count(rec) AS records_upserted\n",
    "    \"\"\", routing_=RoutingControl.WRITE, result_transformer_=lambda r: r.data(), records=records)\n",
    "    print(res)\n"
   ],
   "id": "735e927e2b72dcbb",
   "outputs": [
    {
     "name": "stdout",
     "output_type": "stream",
     "text": [
      "[{'records_upserted': 1000}]\n",
      "[{'records_upserted': 1000}]\n",
      "[{'records_upserted': 1000}]\n",
      "[{'records_upserted': 1000}]\n",
      "[{'records_upserted': 1000}]\n",
      "[{'records_upserted': 1000}]\n",
      "[{'records_upserted': 811}]\n"
     ]
    }
   ],
   "execution_count": 151
  },
  {
   "metadata": {
    "ExecuteTime": {
     "end_time": "2025-06-10T15:10:44.201207Z",
     "start_time": "2025-06-10T15:10:44.074285Z"
    }
   },
   "cell_type": "code",
   "source": [
    "customer_df = pd.read_csv(os.path.join(data_dir,'customers.csv'))\n",
    "\n",
    "for records in chunks(customer_df.to_dict(orient='records')):\n",
    "    res = driver.execute_query(\"\"\"\n",
    "      UNWIND $records AS rec\n",
    "      MERGE (c:Customer {id: rec.ID})\n",
    "      SET\n",
    "        c.name = rec.NAME,\n",
    "        c.type = rec.TYPE\n",
    "      RETURN count(rec) AS records_upserted\n",
    "    \"\"\", routing_=RoutingControl.WRITE, result_transformer_=lambda r: r.data(), records=records)\n",
    "    print(res)\n"
   ],
   "id": "e8b67b23c8f788eb",
   "outputs": [
    {
     "name": "stdout",
     "output_type": "stream",
     "text": [
      "[{'records_upserted': 230}]\n"
     ]
    }
   ],
   "execution_count": 152
  },
  {
   "metadata": {
    "ExecuteTime": {
     "end_time": "2025-06-10T15:10:44.272256Z",
     "start_time": "2025-06-10T15:10:44.266129Z"
    }
   },
   "cell_type": "code",
   "source": "installation_df",
   "id": "b4d3232f160ea0e2",
   "outputs": [
    {
     "data": {
      "text/plain": [
       "    ID  LINK_ID                           CUSTOMER_ID  REGION_ID  \\\n",
       "0    1  10437.0  37813be6-a3bd-45e5-913b-589355110e02      96322   \n",
       "1    2   2716.0  c76c36f3-1447-466b-816c-cccba0122f75      96323   \n",
       "2    3  10437.0                                   NaN      96324   \n",
       "3    4   9474.0  7239773e-24bb-46b4-8cfd-72b23b76cad2      96325   \n",
       "4    5   9474.0  cf96a870-f659-42b7-b0cb-1955582c7219      96322   \n",
       "5    6   2688.0  a4eb7262-6c69-43af-9f80-1cda219bb0e2      96323   \n",
       "6    7      NaN                                   NaN      96324   \n",
       "7    8   2688.0  c1001c52-1028-4311-900b-328434ee5ff1      96325   \n",
       "8    9      NaN  7e8875ad-872d-47e9-ba2a-b27cdf13fe32      96322   \n",
       "9   10   2699.0  52383124-7d02-40dc-8657-a9b9da222a49      96323   \n",
       "10  11   2734.0                                   NaN      96324   \n",
       "11  12   2734.0  9e661d06-4cd3-4281-bec4-8d25b73c2380      96325   \n",
       "12  13   2665.0  ff0b39da-e04f-4a2b-8e3c-5255e36fc918      96322   \n",
       "13  14   2665.0  26b50df0-5abd-4ec1-b9a1-da461965feda      96323   \n",
       "14  15   9474.0                                   NaN      96324   \n",
       "15  16   9474.0  a33125a1-573a-429d-a181-6dc35f9da352      96325   \n",
       "16  17   2666.0  60abaf27-90b4-44cb-9f24-e63c715709a5      96322   \n",
       "17  18   2666.0  efd879a1-3ef3-4caf-82ab-5a6049c9ce7a      96323   \n",
       "18  19   2666.0                                   NaN      96324   \n",
       "19  20   2771.0  7239773e-24bb-46b4-8cfd-72b23b76cad2      96325   \n",
       "20  21   2771.0  505097e0-a593-48bf-935f-5de7878b93a6      96322   \n",
       "21  22   2863.0  801b2f15-26cb-4f0c-92ad-9a7dd7afb628      96323   \n",
       "22  23      NaN                                   NaN      96324   \n",
       "23  24   2863.0  c1001c52-1028-4311-900b-328434ee5ff1      96325   \n",
       "24  25   2863.0  30a37e71-0fdf-4c14-ab38-978ba7a21ca4      96322   \n",
       "25  26   2822.0  605ca17b-d5aa-490f-a77e-b93153da9f40      96323   \n",
       "26  27   2822.0                                   NaN      96324   \n",
       "27  28   2822.0  9e661d06-4cd3-4281-bec4-8d25b73c2380      96325   \n",
       "28  29   2822.0  ebc69037-b05f-43c4-b5b8-4cf62531962b      96322   \n",
       "29  30      NaN  4f6714e1-cded-45bf-8380-833679c28c75      96323   \n",
       "\n",
       "   INSTALLATIONDATE          NOME  TYPE  \n",
       "0        2024-05-16   Instalação0   NaN  \n",
       "1        2024-05-16   Instalação1   NaN  \n",
       "2        2024-05-16   Instalação2   NaN  \n",
       "3        2024-05-16   Instalação3   NaN  \n",
       "4        2024-05-16   Instalação4   NaN  \n",
       "5        2024-05-16   Instalação5   NaN  \n",
       "6        2024-05-16   Instalação6   NaN  \n",
       "7        2024-05-16   Instalação7   NaN  \n",
       "8        2024-05-16   Instalação8   NaN  \n",
       "9        2024-05-16   Instalação9   NaN  \n",
       "10       2024-05-16  Instalação10   NaN  \n",
       "11       2024-05-16  Instalação11   NaN  \n",
       "12       2024-05-16  Instalação12   NaN  \n",
       "13       2024-05-16  Instalação13   NaN  \n",
       "14       2024-05-16  Instalação14   NaN  \n",
       "15       2024-05-16  Instalação15   NaN  \n",
       "16       2024-05-16  Instalação16   NaN  \n",
       "17       2024-05-16  Instalação17   NaN  \n",
       "18       2024-05-16  Instalação18   NaN  \n",
       "19       2024-05-16  Instalação19   NaN  \n",
       "20       2024-05-16  Instalação20   NaN  \n",
       "21       2024-05-16  Instalação21   NaN  \n",
       "22       2024-05-16  Instalação22   NaN  \n",
       "23       2024-05-16  Instalação23   NaN  \n",
       "24       2024-05-16  Instalação24   NaN  \n",
       "25       2024-05-16  Instalação25   NaN  \n",
       "26       2024-05-16  Instalação26   NaN  \n",
       "27       2024-05-16  Instalação27   NaN  \n",
       "28       2024-05-16  Instalação28   NaN  \n",
       "29       2024-05-16  Instalação29   NaN  "
      ],
      "text/html": [
       "<div>\n",
       "<style scoped>\n",
       "    .dataframe tbody tr th:only-of-type {\n",
       "        vertical-align: middle;\n",
       "    }\n",
       "\n",
       "    .dataframe tbody tr th {\n",
       "        vertical-align: top;\n",
       "    }\n",
       "\n",
       "    .dataframe thead th {\n",
       "        text-align: right;\n",
       "    }\n",
       "</style>\n",
       "<table border=\"1\" class=\"dataframe\">\n",
       "  <thead>\n",
       "    <tr style=\"text-align: right;\">\n",
       "      <th></th>\n",
       "      <th>ID</th>\n",
       "      <th>LINK_ID</th>\n",
       "      <th>CUSTOMER_ID</th>\n",
       "      <th>REGION_ID</th>\n",
       "      <th>INSTALLATIONDATE</th>\n",
       "      <th>NOME</th>\n",
       "      <th>TYPE</th>\n",
       "    </tr>\n",
       "  </thead>\n",
       "  <tbody>\n",
       "    <tr>\n",
       "      <th>0</th>\n",
       "      <td>1</td>\n",
       "      <td>10437.0</td>\n",
       "      <td>37813be6-a3bd-45e5-913b-589355110e02</td>\n",
       "      <td>96322</td>\n",
       "      <td>2024-05-16</td>\n",
       "      <td>Instalação0</td>\n",
       "      <td>NaN</td>\n",
       "    </tr>\n",
       "    <tr>\n",
       "      <th>1</th>\n",
       "      <td>2</td>\n",
       "      <td>2716.0</td>\n",
       "      <td>c76c36f3-1447-466b-816c-cccba0122f75</td>\n",
       "      <td>96323</td>\n",
       "      <td>2024-05-16</td>\n",
       "      <td>Instalação1</td>\n",
       "      <td>NaN</td>\n",
       "    </tr>\n",
       "    <tr>\n",
       "      <th>2</th>\n",
       "      <td>3</td>\n",
       "      <td>10437.0</td>\n",
       "      <td>NaN</td>\n",
       "      <td>96324</td>\n",
       "      <td>2024-05-16</td>\n",
       "      <td>Instalação2</td>\n",
       "      <td>NaN</td>\n",
       "    </tr>\n",
       "    <tr>\n",
       "      <th>3</th>\n",
       "      <td>4</td>\n",
       "      <td>9474.0</td>\n",
       "      <td>7239773e-24bb-46b4-8cfd-72b23b76cad2</td>\n",
       "      <td>96325</td>\n",
       "      <td>2024-05-16</td>\n",
       "      <td>Instalação3</td>\n",
       "      <td>NaN</td>\n",
       "    </tr>\n",
       "    <tr>\n",
       "      <th>4</th>\n",
       "      <td>5</td>\n",
       "      <td>9474.0</td>\n",
       "      <td>cf96a870-f659-42b7-b0cb-1955582c7219</td>\n",
       "      <td>96322</td>\n",
       "      <td>2024-05-16</td>\n",
       "      <td>Instalação4</td>\n",
       "      <td>NaN</td>\n",
       "    </tr>\n",
       "    <tr>\n",
       "      <th>5</th>\n",
       "      <td>6</td>\n",
       "      <td>2688.0</td>\n",
       "      <td>a4eb7262-6c69-43af-9f80-1cda219bb0e2</td>\n",
       "      <td>96323</td>\n",
       "      <td>2024-05-16</td>\n",
       "      <td>Instalação5</td>\n",
       "      <td>NaN</td>\n",
       "    </tr>\n",
       "    <tr>\n",
       "      <th>6</th>\n",
       "      <td>7</td>\n",
       "      <td>NaN</td>\n",
       "      <td>NaN</td>\n",
       "      <td>96324</td>\n",
       "      <td>2024-05-16</td>\n",
       "      <td>Instalação6</td>\n",
       "      <td>NaN</td>\n",
       "    </tr>\n",
       "    <tr>\n",
       "      <th>7</th>\n",
       "      <td>8</td>\n",
       "      <td>2688.0</td>\n",
       "      <td>c1001c52-1028-4311-900b-328434ee5ff1</td>\n",
       "      <td>96325</td>\n",
       "      <td>2024-05-16</td>\n",
       "      <td>Instalação7</td>\n",
       "      <td>NaN</td>\n",
       "    </tr>\n",
       "    <tr>\n",
       "      <th>8</th>\n",
       "      <td>9</td>\n",
       "      <td>NaN</td>\n",
       "      <td>7e8875ad-872d-47e9-ba2a-b27cdf13fe32</td>\n",
       "      <td>96322</td>\n",
       "      <td>2024-05-16</td>\n",
       "      <td>Instalação8</td>\n",
       "      <td>NaN</td>\n",
       "    </tr>\n",
       "    <tr>\n",
       "      <th>9</th>\n",
       "      <td>10</td>\n",
       "      <td>2699.0</td>\n",
       "      <td>52383124-7d02-40dc-8657-a9b9da222a49</td>\n",
       "      <td>96323</td>\n",
       "      <td>2024-05-16</td>\n",
       "      <td>Instalação9</td>\n",
       "      <td>NaN</td>\n",
       "    </tr>\n",
       "    <tr>\n",
       "      <th>10</th>\n",
       "      <td>11</td>\n",
       "      <td>2734.0</td>\n",
       "      <td>NaN</td>\n",
       "      <td>96324</td>\n",
       "      <td>2024-05-16</td>\n",
       "      <td>Instalação10</td>\n",
       "      <td>NaN</td>\n",
       "    </tr>\n",
       "    <tr>\n",
       "      <th>11</th>\n",
       "      <td>12</td>\n",
       "      <td>2734.0</td>\n",
       "      <td>9e661d06-4cd3-4281-bec4-8d25b73c2380</td>\n",
       "      <td>96325</td>\n",
       "      <td>2024-05-16</td>\n",
       "      <td>Instalação11</td>\n",
       "      <td>NaN</td>\n",
       "    </tr>\n",
       "    <tr>\n",
       "      <th>12</th>\n",
       "      <td>13</td>\n",
       "      <td>2665.0</td>\n",
       "      <td>ff0b39da-e04f-4a2b-8e3c-5255e36fc918</td>\n",
       "      <td>96322</td>\n",
       "      <td>2024-05-16</td>\n",
       "      <td>Instalação12</td>\n",
       "      <td>NaN</td>\n",
       "    </tr>\n",
       "    <tr>\n",
       "      <th>13</th>\n",
       "      <td>14</td>\n",
       "      <td>2665.0</td>\n",
       "      <td>26b50df0-5abd-4ec1-b9a1-da461965feda</td>\n",
       "      <td>96323</td>\n",
       "      <td>2024-05-16</td>\n",
       "      <td>Instalação13</td>\n",
       "      <td>NaN</td>\n",
       "    </tr>\n",
       "    <tr>\n",
       "      <th>14</th>\n",
       "      <td>15</td>\n",
       "      <td>9474.0</td>\n",
       "      <td>NaN</td>\n",
       "      <td>96324</td>\n",
       "      <td>2024-05-16</td>\n",
       "      <td>Instalação14</td>\n",
       "      <td>NaN</td>\n",
       "    </tr>\n",
       "    <tr>\n",
       "      <th>15</th>\n",
       "      <td>16</td>\n",
       "      <td>9474.0</td>\n",
       "      <td>a33125a1-573a-429d-a181-6dc35f9da352</td>\n",
       "      <td>96325</td>\n",
       "      <td>2024-05-16</td>\n",
       "      <td>Instalação15</td>\n",
       "      <td>NaN</td>\n",
       "    </tr>\n",
       "    <tr>\n",
       "      <th>16</th>\n",
       "      <td>17</td>\n",
       "      <td>2666.0</td>\n",
       "      <td>60abaf27-90b4-44cb-9f24-e63c715709a5</td>\n",
       "      <td>96322</td>\n",
       "      <td>2024-05-16</td>\n",
       "      <td>Instalação16</td>\n",
       "      <td>NaN</td>\n",
       "    </tr>\n",
       "    <tr>\n",
       "      <th>17</th>\n",
       "      <td>18</td>\n",
       "      <td>2666.0</td>\n",
       "      <td>efd879a1-3ef3-4caf-82ab-5a6049c9ce7a</td>\n",
       "      <td>96323</td>\n",
       "      <td>2024-05-16</td>\n",
       "      <td>Instalação17</td>\n",
       "      <td>NaN</td>\n",
       "    </tr>\n",
       "    <tr>\n",
       "      <th>18</th>\n",
       "      <td>19</td>\n",
       "      <td>2666.0</td>\n",
       "      <td>NaN</td>\n",
       "      <td>96324</td>\n",
       "      <td>2024-05-16</td>\n",
       "      <td>Instalação18</td>\n",
       "      <td>NaN</td>\n",
       "    </tr>\n",
       "    <tr>\n",
       "      <th>19</th>\n",
       "      <td>20</td>\n",
       "      <td>2771.0</td>\n",
       "      <td>7239773e-24bb-46b4-8cfd-72b23b76cad2</td>\n",
       "      <td>96325</td>\n",
       "      <td>2024-05-16</td>\n",
       "      <td>Instalação19</td>\n",
       "      <td>NaN</td>\n",
       "    </tr>\n",
       "    <tr>\n",
       "      <th>20</th>\n",
       "      <td>21</td>\n",
       "      <td>2771.0</td>\n",
       "      <td>505097e0-a593-48bf-935f-5de7878b93a6</td>\n",
       "      <td>96322</td>\n",
       "      <td>2024-05-16</td>\n",
       "      <td>Instalação20</td>\n",
       "      <td>NaN</td>\n",
       "    </tr>\n",
       "    <tr>\n",
       "      <th>21</th>\n",
       "      <td>22</td>\n",
       "      <td>2863.0</td>\n",
       "      <td>801b2f15-26cb-4f0c-92ad-9a7dd7afb628</td>\n",
       "      <td>96323</td>\n",
       "      <td>2024-05-16</td>\n",
       "      <td>Instalação21</td>\n",
       "      <td>NaN</td>\n",
       "    </tr>\n",
       "    <tr>\n",
       "      <th>22</th>\n",
       "      <td>23</td>\n",
       "      <td>NaN</td>\n",
       "      <td>NaN</td>\n",
       "      <td>96324</td>\n",
       "      <td>2024-05-16</td>\n",
       "      <td>Instalação22</td>\n",
       "      <td>NaN</td>\n",
       "    </tr>\n",
       "    <tr>\n",
       "      <th>23</th>\n",
       "      <td>24</td>\n",
       "      <td>2863.0</td>\n",
       "      <td>c1001c52-1028-4311-900b-328434ee5ff1</td>\n",
       "      <td>96325</td>\n",
       "      <td>2024-05-16</td>\n",
       "      <td>Instalação23</td>\n",
       "      <td>NaN</td>\n",
       "    </tr>\n",
       "    <tr>\n",
       "      <th>24</th>\n",
       "      <td>25</td>\n",
       "      <td>2863.0</td>\n",
       "      <td>30a37e71-0fdf-4c14-ab38-978ba7a21ca4</td>\n",
       "      <td>96322</td>\n",
       "      <td>2024-05-16</td>\n",
       "      <td>Instalação24</td>\n",
       "      <td>NaN</td>\n",
       "    </tr>\n",
       "    <tr>\n",
       "      <th>25</th>\n",
       "      <td>26</td>\n",
       "      <td>2822.0</td>\n",
       "      <td>605ca17b-d5aa-490f-a77e-b93153da9f40</td>\n",
       "      <td>96323</td>\n",
       "      <td>2024-05-16</td>\n",
       "      <td>Instalação25</td>\n",
       "      <td>NaN</td>\n",
       "    </tr>\n",
       "    <tr>\n",
       "      <th>26</th>\n",
       "      <td>27</td>\n",
       "      <td>2822.0</td>\n",
       "      <td>NaN</td>\n",
       "      <td>96324</td>\n",
       "      <td>2024-05-16</td>\n",
       "      <td>Instalação26</td>\n",
       "      <td>NaN</td>\n",
       "    </tr>\n",
       "    <tr>\n",
       "      <th>27</th>\n",
       "      <td>28</td>\n",
       "      <td>2822.0</td>\n",
       "      <td>9e661d06-4cd3-4281-bec4-8d25b73c2380</td>\n",
       "      <td>96325</td>\n",
       "      <td>2024-05-16</td>\n",
       "      <td>Instalação27</td>\n",
       "      <td>NaN</td>\n",
       "    </tr>\n",
       "    <tr>\n",
       "      <th>28</th>\n",
       "      <td>29</td>\n",
       "      <td>2822.0</td>\n",
       "      <td>ebc69037-b05f-43c4-b5b8-4cf62531962b</td>\n",
       "      <td>96322</td>\n",
       "      <td>2024-05-16</td>\n",
       "      <td>Instalação28</td>\n",
       "      <td>NaN</td>\n",
       "    </tr>\n",
       "    <tr>\n",
       "      <th>29</th>\n",
       "      <td>30</td>\n",
       "      <td>NaN</td>\n",
       "      <td>4f6714e1-cded-45bf-8380-833679c28c75</td>\n",
       "      <td>96323</td>\n",
       "      <td>2024-05-16</td>\n",
       "      <td>Instalação29</td>\n",
       "      <td>NaN</td>\n",
       "    </tr>\n",
       "  </tbody>\n",
       "</table>\n",
       "</div>"
      ]
     },
     "execution_count": 153,
     "metadata": {},
     "output_type": "execute_result"
    }
   ],
   "execution_count": 153
  },
  {
   "metadata": {
    "ExecuteTime": {
     "end_time": "2025-06-10T15:10:44.856768Z",
     "start_time": "2025-06-10T15:10:44.352841Z"
    }
   },
   "cell_type": "code",
   "source": [
    "installation_df = pd.read_csv(os.path.join(data_dir,'installations.csv'))\n",
    "\n",
    "for records in chunks(installation_df.to_dict(orient='records')):\n",
    "    res = driver.execute_query(\"\"\"\n",
    "      UNWIND $records AS rec\n",
    "      MERGE (i:Installation {id: rec.ID})\n",
    "      SET\n",
    "        i.installationDate = rec.INSTALLATIONDATE,\n",
    "        i.nome = rec.NOME,\n",
    "        i.type = rec.TYPE\n",
    "      RETURN count(rec) AS records_upserted\n",
    "    \"\"\", routing_=RoutingControl.WRITE, result_transformer_=lambda r: r.data(), records=records)\n",
    "    print(res)\n",
    "\n",
    "# Due to data quality issues a minority of installations are missing customers, links, and/or region. We work around for now\n",
    "for records in chunks(installation_df[~installation_df.LINK_ID.isna()].to_dict(orient='records')):\n",
    "    res = driver.execute_query(\"\"\"\n",
    "      UNWIND $records AS rec\n",
    "      MERGE (i:Installation {id: rec.ID})\n",
    "      MERGE (l:Link {id: rec.LINK_ID})\n",
    "      MERGE (l)-[:LINK_HAS_INSTALLATION]->(i)\n",
    "      RETURN count(rec) AS records_upserted\n",
    "    \"\"\", routing_=RoutingControl.WRITE, result_transformer_=lambda r: r.data(), records=records)\n",
    "    print(res)\n",
    "\n",
    "for records in chunks(installation_df[~installation_df.CUSTOMER_ID.isna()].to_dict(orient='records')):\n",
    "    res = driver.execute_query(\"\"\"\n",
    "      UNWIND $records AS rec\n",
    "      MERGE (i:Installation {id: rec.ID})\n",
    "      MERGE (c:Customer {id: rec.CUSTOMER_ID})\n",
    "      MERGE (c)-[:CUSTOMER_HAS_INSTALLATION]->(i)\n",
    "      RETURN count(rec) AS records_upserted\n",
    "    \"\"\", routing_=RoutingControl.WRITE, result_transformer_=lambda r: r.data(), records=records)\n",
    "    print(res)\n",
    "\n",
    "for records in chunks(installation_df[~installation_df.REGION_ID.isna()].to_dict(orient='records')):\n",
    "    res = driver.execute_query(\"\"\"\n",
    "      UNWIND $records AS rec\n",
    "      MERGE (i:Installation {id: rec.ID})\n",
    "      MERGE (r:Region {id: rec.REGION_ID})\n",
    "      MERGE (i)-[:INSTALL_HAS_REGION]->(r)\n",
    "      RETURN count(rec) AS records_upserted\n",
    "    \"\"\", routing_=RoutingControl.WRITE, result_transformer_=lambda r: r.data(), records=records)\n",
    "    print(res)\n"
   ],
   "id": "7f0718e80ae1fbdb",
   "outputs": [
    {
     "name": "stdout",
     "output_type": "stream",
     "text": [
      "[{'records_upserted': 30}]\n",
      "[{'records_upserted': 26}]\n",
      "[{'records_upserted': 23}]\n",
      "[{'records_upserted': 30}]\n"
     ]
    }
   ],
   "execution_count": 154
  },
  {
   "metadata": {
    "ExecuteTime": {
     "end_time": "2025-06-10T15:10:45.024785Z",
     "start_time": "2025-06-10T15:10:44.912942Z"
    }
   },
   "cell_type": "code",
   "source": [
    "region_df = pd.read_csv(os.path.join(data_dir,'regions.csv'))\n",
    "\n",
    "for records in chunks(region_df.to_dict(orient='records')):\n",
    "    res = driver.execute_query(\"\"\"\n",
    "      UNWIND $records AS rec\n",
    "      MERGE (r:Region {id: rec.ID})\n",
    "      SET r.name = rec.NAME\n",
    "      RETURN count(rec) AS records_upserted\n",
    "    \"\"\", routing_=RoutingControl.WRITE, result_transformer_=lambda r: r.data(), records=records)\n",
    "    print(res)"
   ],
   "id": "1d13624cd77e00de",
   "outputs": [
    {
     "name": "stdout",
     "output_type": "stream",
     "text": [
      "[{'records_upserted': 4}]\n"
     ]
    }
   ],
   "execution_count": 155
  },
  {
   "metadata": {
    "ExecuteTime": {
     "end_time": "2025-06-10T15:10:45.205800Z",
     "start_time": "2025-06-10T15:10:45.039522Z"
    }
   },
   "cell_type": "code",
   "source": [
    "consumption_df = pd.read_csv(os.path.join(data_dir,'consumption_logs.csv'))\n",
    "\n",
    "for records in chunks(consumption_df.to_dict(orient='records')):\n",
    "    res = driver.execute_query(\"\"\"\n",
    "      UNWIND $records AS rec\n",
    "      MERGE (c:Consumption {id: rec.ID})\n",
    "      MERGE (i:Installation {id: rec.INSTALLATION_ID})\n",
    "      MERGE (i)-[:INSTALL_HAS_CONSUMPTION]->(c)\n",
    "      SET\n",
    "        c.referenceDate = rec.REFERENCEDATE,\n",
    "        c.quantity = rec.QUANTIDADE,\n",
    "        c.consumptionValue = rec.CONSUMPTIONVALUE,\n",
    "        c.invoiceValue = rec.INVOICEVALUE,\n",
    "        c.newConsumptionValue = rec.NEWCONSUMPTIONVALUE\n",
    "      RETURN count(rec) AS records_upserted\n",
    "    \"\"\", routing_=RoutingControl.WRITE, result_transformer_=lambda r: r.data(), records=records)\n",
    "    print(res)\n"
   ],
   "id": "a116e4ce36cd2eb3",
   "outputs": [
    {
     "name": "stdout",
     "output_type": "stream",
     "text": [
      "[{'records_upserted': 360}]\n"
     ]
    }
   ],
   "execution_count": 156
  },
  {
   "metadata": {
    "ExecuteTime": {
     "end_time": "2025-06-10T15:10:45.450921Z",
     "start_time": "2025-06-10T15:10:45.292474Z"
    }
   },
   "cell_type": "code",
   "source": [
    "ticket_df = pd.read_csv(os.path.join(data_dir,'tickets.csv'))\n",
    "\n",
    "for records in chunks(ticket_df.to_dict(orient='records')):\n",
    "    res = driver.execute_query(\"\"\"\n",
    "      UNWIND $records AS rec\n",
    "      MERGE (t:Ticket {ticketNumber: rec.TICKETNUMBER})\n",
    "      MERGE (c:Customer {id: rec.CUSTOMER_ID})\n",
    "      MERGE (c)-[:CREATED_TICKET]->(t)\n",
    "      SET\n",
    "        t.createdDate = rec.CREATEDATE,\n",
    "        t.resolutionDate = rec.RESOLUTIONDATE,\n",
    "        t.severity = rec.SEVERITY,\n",
    "        t.status = rec.STATUS\n",
    "      RETURN count(rec) AS records_upserted\n",
    "    \"\"\", routing_=RoutingControl.WRITE, result_transformer_=lambda r: r.data(), records=records)\n",
    "    print(res)"
   ],
   "id": "4a535106f17011a9",
   "outputs": [
    {
     "name": "stdout",
     "output_type": "stream",
     "text": [
      "[{'records_upserted': 194}]\n"
     ]
    }
   ],
   "execution_count": 157
  },
  {
   "metadata": {
    "ExecuteTime": {
     "end_time": "2025-06-10T15:10:45.459223Z",
     "start_time": "2025-06-10T15:10:45.458035Z"
    }
   },
   "cell_type": "code",
   "source": "",
   "id": "57bce57eac6681b9",
   "outputs": [],
   "execution_count": null
  },
  {
   "metadata": {
    "ExecuteTime": {
     "end_time": "2025-06-10T15:10:45.496500Z",
     "start_time": "2025-06-10T15:10:45.495020Z"
    }
   },
   "cell_type": "code",
   "source": "",
   "id": "c48c60f8f1b866d9",
   "outputs": [],
   "execution_count": null
  },
  {
   "metadata": {
    "ExecuteTime": {
     "end_time": "2025-06-10T15:10:45.546118Z",
     "start_time": "2025-06-10T15:10:45.544860Z"
    }
   },
   "cell_type": "code",
   "source": "",
   "id": "fc9c7e19460d4759",
   "outputs": [],
   "execution_count": null
  }
 ],
 "metadata": {
  "kernelspec": {
   "display_name": "Python 3",
   "language": "python",
   "name": "python3"
  },
  "language_info": {
   "codemirror_mode": {
    "name": "ipython",
    "version": 2
   },
   "file_extension": ".py",
   "mimetype": "text/x-python",
   "name": "python",
   "nbconvert_exporter": "python",
   "pygments_lexer": "ipython2",
   "version": "2.7.6"
  }
 },
 "nbformat": 4,
 "nbformat_minor": 5
}
